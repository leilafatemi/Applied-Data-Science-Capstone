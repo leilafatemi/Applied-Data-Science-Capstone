{
 "cells": [
  {
   "cell_type": "code",
   "execution_count": 10,
   "metadata": {},
   "outputs": [],
   "source": [
    "# Import required libraries\n",
    "import pandas as pd \n",
    "import plotly.graph_objects as go \n",
    "import plotly.express as px \n",
    "import dash\n",
    "from dash import html\n",
    "from dash import dcc \n",
    "from dash.dependencies import Input, Output "
   ]
  },
  {
   "cell_type": "code",
   "execution_count": 11,
   "metadata": {},
   "outputs": [],
   "source": [
    "# Read the data into pandas dataframe\n",
    "spacex_df = pd.read_csv(\"https://cf-courses-data.s3.us.cloud-object-storage.appdomain.cloud/IBM-DS0321EN-SkillsNetwork/datasets/spacex_launch_dash.csv\")"
   ]
  },
  {
   "cell_type": "code",
   "execution_count": 12,
   "metadata": {},
   "outputs": [],
   "source": [
    "# Calculate max and min payloads\n",
    "max_payload = spacex_df['Payload Mass (kg)'].max()\n",
    "min_payload = spacex_df['Payload Mass (kg)'].min()"
   ]
  },
  {
   "cell_type": "code",
   "execution_count": 13,
   "metadata": {},
   "outputs": [],
   "source": [
    "# Create a dash application\n",
    "app = dash.Dash(__name__)"
   ]
  },
  {
   "cell_type": "code",
   "execution_count": 21,
   "metadata": {},
   "outputs": [],
   "source": [
    "# Create an app layout\n",
    "app.layout = html.Div(children=[html.H1('SpaceX Launch Records Dashboard',\n",
    "                                         style={'textAlign':'center',\n",
    "                                                 'color':'#503D36',\n",
    "                                                   'font-size': 40}),\n",
    "                                # TASK 1: Add a dropdown list to enable Launch Site selection.\n",
    "                                # The default select value is for ALL sites.\n",
    "                                dcc.Dropdown(id='site-dropdown',\n",
    "                                             options=[{'label': 'All Sites', 'value': 'ALL'},\n",
    "                                                      {'label': 'CCAFS LC-40', 'value': 'CCAFS LC-40'},\n",
    "                                                      {'label': 'VAFB SLC-4E', 'value': 'VAFB SLC-4E'},\n",
    "                                                      {'label': 'KSC LC-39A', 'value': 'KSC LC-39A'},\n",
    "                                                      {'label': 'CCAFS SLC-40', 'value': 'CCAFS SLC-40'}],\n",
    "                                             value='ALL',# attribute with default dropdown value.\n",
    "                                             # attribute to show a text description about this input area.\n",
    "                                             placeholder='Select a Launch Site here',\n",
    "                                             # attribute to be True so we can enter keywords\n",
    "                                             # to search launch sites.\n",
    "                                             searchable=True\n",
    "                                             ),\n",
    "                                  html.Br(),\n",
    "\n",
    "                                  # TASK 2: Add a pie chart to show the total successful launches count for all sites;\n",
    "                                  # If a specific launch site was selected, show the Success vs. Failed counts for the site.\n",
    "                                  html.Div(dcc.Graph(id='success-pie-chart')),\n",
    "                                  html.Br(),\n",
    "\n",
    "                                  html.P(\"Payload range (Kg):\"),\n",
    "                                  # TASK 3: Add a slider to select payload range\n",
    "                                  html.Div(dcc.RangeSlider(id='payload-slider', min=0, max=10000, step=1000, \n",
    "                                                            marks={i: '{}'.format(i) for i in range(0, 10001, 1000)}, \n",
    "                                                            value=[min_payload, max_payload])),\n",
    "                                  html.Br(),\n",
    "\n",
    "                                  # TASK 4: Add a scatter chart to show the correlation between payload and launch success\n",
    "                                  html.Div(dcc.Graph(id='success-payload-scatter-chart')),\n",
    "                                ])"
   ]
  },
  {
   "cell_type": "code",
   "execution_count": 15,
   "metadata": {},
   "outputs": [],
   "source": [
    "# TASK 2: Add a callback function for `site-dropdown` as input,\n",
    "# `success-pie-chart` as output.\n",
    "@app.callback(Output(component_id='success-pie-chart',component_property='figure'),\n",
    "              Input(component_id='site-dropdown',component_property='value'))\n",
    "def get_pie_chart(entered_site):\n",
    "    filtered_df=spacex_df\n",
    "    if entered_site=='ALL':\n",
    "        fig= px.pie(values=spacex_df.groupby('Launch Site')['class'].mean(), \n",
    "                     names=spacex_df.groupby('Launch Site')['Launch Site'].first(),\n",
    "                     title='Total Success Launches by Site')\n",
    "    else:\n",
    "        fig = px.pie(values=spacex_df[spacex_df['Launch Site']==str(entered_site)]['class'].value_counts(normalize=True), \n",
    "                     names=spacex_df['class'].unique(), \n",
    "                     title='Total Success Launches for Site {}'.format(entered_site))\n",
    "    return(fig)"
   ]
  },
  {
   "cell_type": "code",
   "execution_count": 19,
   "metadata": {},
   "outputs": [],
   "source": [
    "# TASK 4: Add a callback function for `site-dropdown` and `payload-slider` as inputs,\n",
    "# `success-payload-scatter-chart` as output.\n",
    "@app.callback(Output(component_id='success-payload-scatter-chart',component_property='figure'),\n",
    "               [Input(component_id='site-dropdown',component_property='value'),\n",
    "                 Input(component_id='payload-slider',component_property='value')])\n",
    "def get_scatter_chart(entered_site, selected_payloadMass):\n",
    "    if entered_site=='ALL':\n",
    "        fig= px.scatter(spacex_df[spacex_df['Payload Mass (kg)'].between(selected_payloadMass[0], selected_payloadMass[1])], \n",
    "                        x='Payload Mass (kg)',\n",
    "                        y='class',\n",
    "                        color='Booster Version Category',\n",
    "                        hover_data=['Launch Site'],\n",
    "                        title='Correlation Between Payload and Success for All Sites')\n",
    "    else:\n",
    "        df = spacex_df[spacex_df['Launch Site']==str(entered_site)]\n",
    "        fig = px.scatter(spacex_df[spacex_df['Payload Mass (kg)'].between(selected_payloadMass[0], selected_payloadMass[1])], \n",
    "                        x='Payload Mass (kg)',\n",
    "                        y='class',\n",
    "                        color='Booster Version Category',\n",
    "                        hover_data=['Launch Site'],\n",
    "                        title='Correlation Between Payload and Success for Site {}'.format(entered_site))\n",
    "    return(fig)"
   ]
  },
  {
   "cell_type": "code",
   "execution_count": 22,
   "metadata": {},
   "outputs": [
    {
     "name": "stdout",
     "output_type": "stream",
     "text": [
      "Dash app running on http://127.0.0.1:8050/\n"
     ]
    }
   ],
   "source": [
    "# Run the app\n",
    "if __name__ == '__main__':\n",
    "    app.run_server(jupyter_mode=\"external\")"
   ]
  }
 ],
 "metadata": {
  "kernelspec": {
   "display_name": "myenv",
   "language": "python",
   "name": "python3"
  },
  "language_info": {
   "codemirror_mode": {
    "name": "ipython",
    "version": 3
   },
   "file_extension": ".py",
   "mimetype": "text/x-python",
   "name": "python",
   "nbconvert_exporter": "python",
   "pygments_lexer": "ipython3",
   "version": "3.11.5"
  }
 },
 "nbformat": 4,
 "nbformat_minor": 2
}
